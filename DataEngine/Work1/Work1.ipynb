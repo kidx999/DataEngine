{
 "cells": [
  {
   "cell_type": "markdown",
   "metadata": {},
   "source": [
    "# Action1 求2+4+6+...+100的求和"
   ]
  },
  {
   "cell_type": "code",
   "execution_count": 1,
   "metadata": {},
   "outputs": [
    {
     "name": "stdout",
     "output_type": "stream",
     "text": [
      "2550\n"
     ]
    }
   ],
   "source": [
    "sum = 0 \n",
    "for num in range(2, 101, 2):\n",
    "    sum += num\n",
    "print(sum)"
   ]
  },
  {
   "cell_type": "markdown",
   "metadata": {},
   "source": [
    "# Action2 计算平均成绩、最小成绩、最大成绩、方差、标准差，按照总成绩排序"
   ]
  },
  {
   "cell_type": "code",
   "execution_count": 2,
   "metadata": {},
   "outputs": [
    {
     "name": "stdout",
     "output_type": "stream",
     "text": [
      "         Chinese        Math     English\n",
      "Mean   86.200000   81.000000   76.600000\n",
      "Min    68.000000   65.000000   30.000000\n",
      "Max    98.000000   90.000000   98.000000\n",
      "Var   150.200000  109.000000  734.800000\n",
      "Std    12.255611   10.440307   27.107195\n"
     ]
    }
   ],
   "source": [
    "import pandas as pd\n",
    "#创建数据#\n",
    "data = {'Chinese':[68, 95, 98, 90, 80],\n",
    "        'Math':[65, 76, 86,88, 90],\n",
    "        'English':[30, 98, 88, 77, 90]\n",
    "       }\n",
    "score=pd.DataFrame(data, index=['Zhangfei', 'Guanyu', 'Liubei', 'Dianwei', 'Xuchu'])\n",
    "#计算平均成绩、最小成绩、最大成绩、方差、标准差\n",
    "data_statics=[score.mean(),score.min(),score.max(),score.var(),score.std()]\n",
    "score_statistics=pd.DataFrame(data_statics,index=['Mean','Min','Max','Var','Std'],columns=['Chinese','Math','English'])\n",
    "print(score_statistics)\n"
   ]
  },
  {
   "cell_type": "code",
   "execution_count": 3,
   "metadata": {},
   "outputs": [
    {
     "name": "stdout",
     "output_type": "stream",
     "text": [
      "          Chinese  Math  English  Score_Sum\n",
      "Liubei         98    86       88        272\n",
      "Guanyu         95    76       98        269\n",
      "Xuchu          80    90       90        260\n",
      "Dianwei        90    88       77        255\n",
      "Zhangfei       68    65       30        163\n"
     ]
    }
   ],
   "source": [
    "#按总成绩排序\n",
    "def score_sum(x):\n",
    "    return x.sum()\n",
    "score['Score_Sum']=score.apply(score_sum,axis=1)\n",
    "score=score.sort_values('Score_Sum', ascending=False)\n",
    "print(score)"
   ]
  },
  {
   "cell_type": "markdown",
   "metadata": {},
   "source": [
    "# Action 3 对数据进探索：品牌投诉总数，车型投诉总数，哪个品牌的平均车型投诉最多"
   ]
  },
  {
   "cell_type": "code",
   "execution_count": 4,
   "metadata": {},
   "outputs": [
    {
     "name": "stdout",
     "output_type": "stream",
     "text": [
      "        count\n",
      "brand        \n",
      "吉利汽车       96\n",
      "一汽马自达      95\n",
      "一汽大众       58\n",
      "上汽大众       36\n",
      "一汽大众奥迪     19\n",
      "...       ...\n",
      "天津一汽        1\n",
      "多士星         1\n",
      "北汽新能源       1\n",
      "北汽昌河        1\n",
      "东风小康        1\n",
      "\n",
      "[74 rows x 1 columns]\n"
     ]
    }
   ],
   "source": [
    "import pandas as pd\n",
    "# 数据加载\n",
    "data = pd.read_csv('./car_complain.csv')\n",
    "# 拆分problem\n",
    "data = data.drop('problem', axis=1).join(data.problem.str.get_dummies(','))\n",
    "# 数据清洗\n",
    "def apply_replace(x):\n",
    "    x = x.replace('一汽-大众','一汽大众')\n",
    "    return x\n",
    "data['brand'] = data['brand'].apply(apply_replace)\n",
    "data\n",
    "#汇总品牌投诉总数\n",
    "data_brand_compliant=data.groupby('brand')['id'].agg(['count'])\n",
    "data_brand_compliant=data_brand_compliant.sort_values('count',ascending=False)\n",
    "print(data_brand_compliant)"
   ]
  },
  {
   "cell_type": "code",
   "execution_count": 5,
   "metadata": {},
   "outputs": [
    {
     "name": "stdout",
     "output_type": "stream",
     "text": [
      "     brand car_model  car_total_compliant\n",
      "28   一汽马自达       阿特兹                  152\n",
      "132   吉利汽车        星越                   92\n",
      "29   一汽马自达   马自达CX-4                   41\n",
      "13    一汽大众        速腾                   33\n",
      "12    一汽大众        迈腾                   22\n",
      "..     ...       ...                  ...\n",
      "34    上汽大众       桑塔纳                    1\n",
      "39    上汽大众        途铠                    1\n",
      "40   上汽斯柯达        昊锐                    1\n",
      "123  吉利新能源     博瑞新能源                    1\n",
      "27    一汽解放     解放J6P                    1\n",
      "\n",
      "[213 rows x 3 columns]\n"
     ]
    }
   ],
   "source": [
    "#计算每个车型总投诉数量\n",
    "tags = data.columns[7:]\n",
    "data_car_compliant=data.groupby(['brand','car_model'])[tags].agg(['sum'])\n",
    "data_car_compliant['car_total_compliant']=data_car_compliant.sum(axis=1)\n",
    "data_car_compliant=data_car_compliant['car_total_compliant']\n",
    "#打印各车型投诉量并排序\n",
    "data_car_compliant=data_car_compliant.reset_index()\n",
    "data_car_compliant=data_car_compliant.fillna('ffill')\n",
    "data_car_compliant=data_car_compliant.sort_values(by='car_total_compliant',ascending=False)\n",
    "print(data_car_compliant)"
   ]
  },
  {
   "cell_type": "code",
   "execution_count": 6,
   "metadata": {},
   "outputs": [
    {
     "name": "stdout",
     "output_type": "stream",
     "text": [
      "      brand car_model  car_total_compliant  count  model_mean_compliant\n",
      "0     一汽马自达       阿特兹                  152      2             76.000000\n",
      "1     一汽马自达   马自达CX-4                   41      2             20.500000\n",
      "2      吉利汽车        星越                   92     10              9.200000\n",
      "56     广汽三菱       欧蓝德                   11      2              5.500000\n",
      "107    东风雷诺       科雷嘉                    5      1              5.000000\n",
      "..      ...       ...                  ...    ...                   ...\n",
      "151  上汽通用五菱    五菱荣光新卡                    1      9              0.111111\n",
      "33     上汽大众      Polo                    1     10              0.100000\n",
      "34     上汽大众       桑塔纳                    1     10              0.100000\n",
      "35     上汽大众        途铠                    1     10              0.100000\n",
      "11     吉利汽车        远景                    1     10              0.100000\n",
      "\n",
      "[213 rows x 5 columns]\n"
     ]
    }
   ],
   "source": [
    "#计算每个品牌车型数量\n",
    "result_brand=data_car_compliant.groupby(['brand'])['car_model'].agg(['count'])\n",
    "data_mean_compliant=pd.merge(data_car_compliant,result_brand,on='brand',how='outer')\n",
    "data_mean_compliant['model_mean_compliant']=data_mean_compliant['car_total_compliant']/data_mean_compliant['count']\n",
    "data_mean_compliant=data_mean_compliant.sort_values(by='model_mean_compliant',ascending=False)\n",
    "print(data_mean_compliant)"
   ]
  }
 ],
 "metadata": {
  "kernelspec": {
   "display_name": "Python 3",
   "language": "python",
   "name": "python3"
  },
  "language_info": {
   "codemirror_mode": {
    "name": "ipython",
    "version": 3
   },
   "file_extension": ".py",
   "mimetype": "text/x-python",
   "name": "python",
   "nbconvert_exporter": "python",
   "pygments_lexer": "ipython3",
   "version": "3.7.4"
  }
 },
 "nbformat": 4,
 "nbformat_minor": 2
}
