{
 "cells": [
  {
   "cell_type": "markdown",
   "metadata": {},
   "source": [
    "# Action1 求2+4+6+...+100的求和"
   ]
  },
  {
   "cell_type": "code",
   "execution_count": 4,
   "metadata": {},
   "outputs": [
    {
     "name": "stdout",
     "output_type": "stream",
     "text": [
      "2550\n"
     ]
    }
   ],
   "source": [
    "sum = 0 \n",
    "for num in range(2, 101, 2):\n",
    "    sum += num\n",
    "print(sum)"
   ]
  },
  {
   "cell_type": "markdown",
   "metadata": {},
   "source": [
    "# Action2 计算平均成绩、最小成绩、最大成绩、方差、标准差，按照总成绩排序"
   ]
  },
  {
   "cell_type": "code",
   "execution_count": 5,
   "metadata": {},
   "outputs": [
    {
     "name": "stdout",
     "output_type": "stream",
     "text": [
      "         Chinese        Math     English\n",
      "Mean   86.200000   81.000000   76.600000\n",
      "Min    68.000000   65.000000   30.000000\n",
      "Max    98.000000   90.000000   98.000000\n",
      "Var   150.200000  109.000000  734.800000\n",
      "Std    12.255611   10.440307   27.107195\n"
     ]
    }
   ],
   "source": [
    "import pandas as pd\n",
    "#创建数据#\n",
    "data = {'Chinese':[68, 95, 98, 90, 80],\n",
    "        'Math':[65, 76, 86,88, 90],\n",
    "        'English':[30, 98, 88, 77, 90]\n",
    "       }\n",
    "score=pd.DataFrame(data, index=['Zhangfei', 'Guanyu', 'Liubei', 'Dianwei', 'Xuchu'])\n",
    "#计算平均成绩、最小成绩、最大成绩、方差、标准差\n",
    "data_statics=[score.mean(),score.min(),score.max(),score.var(),score.std()]\n",
    "score_statistics=pd.DataFrame(data_statics,index=['Mean','Min','Max','Var','Std'],columns=['Chinese','Math','English'])\n",
    "print(score_statistics)\n"
   ]
  },
  {
   "cell_type": "code",
   "execution_count": 6,
   "metadata": {},
   "outputs": [
    {
     "name": "stdout",
     "output_type": "stream",
     "text": [
      "          Chinese  Math  English  Score_Sum\n",
      "Liubei         98    86       88        272\n",
      "Guanyu         95    76       98        269\n",
      "Xuchu          80    90       90        260\n",
      "Dianwei        90    88       77        255\n",
      "Zhangfei       68    65       30        163\n"
     ]
    }
   ],
   "source": [
    "#按总成绩排序\n",
    "def score_sum(x):\n",
    "    return x.sum()\n",
    "score['Score_Sum']=score.apply(score_sum,axis=1)\n",
    "score=score.sort_values('Score_Sum', ascending=False)\n",
    "print(score)"
   ]
  },
  {
   "cell_type": "markdown",
   "metadata": {},
   "source": [
    "# Action 3 对数据进探索：品牌投诉总数，车型投诉总数，哪个品牌的平均车型投诉最多"
   ]
  },
  {
   "cell_type": "code",
   "execution_count": 7,
   "metadata": {},
   "outputs": [
    {
     "name": "stdout",
     "output_type": "stream",
     "text": [
      "        count\n",
      "brand        \n",
      "吉利汽车       96\n",
      "一汽马自达      95\n",
      "一汽大众       58\n",
      "上汽大众       36\n",
      "一汽大众奥迪     19\n",
      "...       ...\n",
      "天津一汽        1\n",
      "多士星         1\n",
      "北汽新能源       1\n",
      "北汽昌河        1\n",
      "东风小康        1\n",
      "\n",
      "[74 rows x 1 columns]\n"
     ]
    }
   ],
   "source": [
    "import pandas as pd\n",
    "# 数据加载\n",
    "data = pd.read_csv('./car_complain.csv')\n",
    "# 拆分problem\n",
    "data = data.drop('problem', axis=1).join(data.problem.str.get_dummies(','))\n",
    "# 数据清洗\n",
    "def apply_replace(x):\n",
    "    x = x.replace('一汽-大众','一汽大众')\n",
    "    return x\n",
    "data['brand'] = data['brand'].apply(apply_replace)\n",
    "data\n",
    "#汇总品牌投诉总数\n",
    "data_brand_compliant=data.groupby('brand')['id'].agg(['count'])\n",
    "data_brand_compliant=data_brand_compliant.sort_values('count',ascending=False)\n",
    "print(data_brand_compliant)"
   ]
  },
  {
   "cell_type": "code",
   "execution_count": 8,
   "metadata": {},
   "outputs": [
    {
     "name": "stdout",
     "output_type": "stream",
     "text": [
      "           count\n",
      "car_model       \n",
      "阿特兹           75\n",
      "星越            43\n",
      "速腾            22\n",
      "马自达CX-4       20\n",
      "博越            13\n",
      "...          ...\n",
      "悦翔             1\n",
      "捷豹XEL          1\n",
      "捷豹XFL          1\n",
      "撼路者            1\n",
      "高尔夫（进口）        1\n",
      "\n",
      "[212 rows x 1 columns]\n"
     ]
    }
   ],
   "source": [
    "#汇总车型投诉总数\n",
    "data_model_compliant=data.groupby('car_model')['id'].agg(['count'])\n",
    "data_model_compliant=data_model_compliant.sort_values('count',ascending=False)\n",
    "print(data_model_compliant)"
   ]
  },
  {
   "cell_type": "code",
   "execution_count": 32,
   "metadata": {},
   "outputs": [
    {
     "name": "stdout",
     "output_type": "stream",
     "text": [
      "        car_model_mean_complaint\n",
      "brand                           \n",
      "一汽马自达                  47.500000\n",
      "吉利汽车                    9.600000\n",
      "一汽大众                    8.285714\n",
      "广汽丰田                    5.666667\n",
      "上汽大众                    3.600000\n",
      "...                          ...\n",
      "东风乘用车                   1.000000\n",
      "奔驰（进口）                  1.000000\n",
      "奥迪（进口）                  1.000000\n",
      "宝沃汽车                    1.000000\n",
      "一汽解放                    1.000000\n",
      "\n",
      "[74 rows x 1 columns]\n"
     ]
    }
   ],
   "source": [
    "#汇总品牌平甲车型投诉量\n",
    "data_temp=data.groupby(['brand','car_model'])['id'].agg('count')\n",
    "data_temp=pd.DataFrame(data_temp)\n",
    "data_mean_complaint=pd.DataFrame(data_temp.groupby('brand')['id'].agg('mean'))\n",
    "data_mean_complaint.columns=['car_model_mean_complaint']\n",
    "data_mean_complaint=data_mean_complaint.sort_values('car_model_mean_complaint',ascending=False)\n",
    "print(data_mean_complaint)"
   ]
  }
 ],
 "metadata": {
  "kernelspec": {
   "display_name": "Python 3",
   "language": "python",
   "name": "python3"
  },
  "language_info": {
   "codemirror_mode": {
    "name": "ipython",
    "version": 3
   },
   "file_extension": ".py",
   "mimetype": "text/x-python",
   "name": "python",
   "nbconvert_exporter": "python",
   "pygments_lexer": "ipython3",
   "version": "3.7.4"
  }
 },
 "nbformat": 4,
 "nbformat_minor": 2
}
