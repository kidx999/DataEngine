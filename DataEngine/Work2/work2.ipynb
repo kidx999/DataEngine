{
 "cells": [
  {
   "cell_type": "code",
   "execution_count": 1,
   "metadata": {},
   "outputs": [],
   "source": [
    "import pandas as pd\n",
    "import requests\n",
    "from bs4 import BeautifulSoup as bs\n",
    "import time"
   ]
  },
  {
   "cell_type": "markdown",
   "metadata": {},
   "source": [
    "# Action1：汽车投诉信息采集："
   ]
  },
  {
   "cell_type": "code",
   "execution_count": 2,
   "metadata": {},
   "outputs": [],
   "source": [
    "# 获取页面信息\n",
    "def get_page_content(url):\n",
    "    # 获取页面的内容\n",
    "    headers={'user-agent': 'Mozilla/5.0 (Windows NT 10.0; WOW64) AppleWebKit/537.36 (KHTML, like Gecko) Chrome/74.0.3729.131 Safari/537.36'}\n",
    "    html=requests.get(url,headers=headers,timeout=10)\n",
    "    content = html.text\n",
    "    # 通过content创建BeautifulSoup对象\n",
    "    soup = bs(content, 'html.parser', from_encoding='utf-8')\n",
    "    return soup"
   ]
  },
  {
   "cell_type": "code",
   "execution_count": 3,
   "metadata": {},
   "outputs": [],
   "source": [
    "#拾取页面内投诉信息\n",
    "def get_data(soup):\n",
    "    # 找到完整的投诉信息\n",
    "    temp = soup.find('div',class_=\"tslb_b\")\n",
    "    # 创建DataFrame\n",
    "    df = pd.DataFrame(columns = ['id', 'brand', 'car_model', 'type', 'desc', 'problem', 'datetime', 'status'])\n",
    "    tr_list = temp.find_all('tr')\n",
    "    #按tr读取行信息\n",
    "    for tr in tr_list:\n",
    "        td_list=tr.find_all('td')\n",
    "        if len(td_list)>0:\n",
    "            #按td读取单元格信息，并组成pd\n",
    "            id,brand,car_model,type,desc,problem,datetime,status=\\\n",
    "            td_list[0].text,td_list[1].text,td_list[2].text,td_list[3].text,\\\n",
    "            td_list[4].text,td_list[5].text,td_list[6].text,td_list[7].text,\n",
    "            temp={}\n",
    "            temp['id']=id\n",
    "            temp['brand']=brand\n",
    "            temp['car_model']=car_model\n",
    "            temp['type']=type\n",
    "            temp['desc']=desc\n",
    "            temp['problem']=problem\n",
    "            temp['datetime']=datetime\n",
    "            temp['status']=status\n",
    "            df=df.append(temp,ignore_index=True)\n",
    "    return df"
   ]
  },
  {
   "cell_type": "code",
   "execution_count": 4,
   "metadata": {},
   "outputs": [
    {
     "name": "stderr",
     "output_type": "stream",
     "text": [
      "d:\\anaconda3\\lib\\site-packages\\bs4\\__init__.py:203: UserWarning: You provided Unicode markup but also provided a value for from_encoding. Your from_encoding will be ignored.\n",
      "  warnings.warn(\"You provided Unicode markup but also provided a value for from_encoding. Your from_encoding will be ignored.\")\n"
     ]
    },
    {
     "name": "stdout",
     "output_type": "stream",
     "text": [
      "        id    brand car_model                          type  \\\n",
      "0   571251    一汽-大众       高尔夫            2016款 1.6L  自动 舒适型   \n",
      "1   571247     华晨宝马   宝马5系新能源         2020款 530Le 里程升级版 先锋版   \n",
      "2   571246     众泰汽车      大迈X7             2018款 2.0T 自动 尊贵型   \n",
      "3   571243     奇瑞汽车       瑞虎8          2019款 1.6TGDI 自动 精英型   \n",
      "4   571242  一汽-大众奥迪      奥迪A3  2016款 Sportback 1.4T 双离合 风尚型   \n",
      "..     ...      ...       ...                           ...   \n",
      "25  569923     东风本田   INSPIRE        2019款 锐·混动 2.0L 净尚版 国V   \n",
      "26  569920     吉利汽车      远景X6            2020款 1.4T CVT 尊贵型   \n",
      "27  569917     华晨宝马      宝马3系             2021款 325Li M运动套装   \n",
      "28  569916     东风日产        轩逸       2012款 1.6L XE 自动 舒适版 经典   \n",
      "29  569915     长安福特       蒙迪欧      2013款 1.5T 自动 GTDi180时尚型   \n",
      "\n",
      "                    desc                       problem    datetime status  \n",
      "0    一汽大众高尔夫变速箱报故障码维修未解决                          B96,  2021-02-08   信息审核  \n",
      "1   华晨宝马5系新能源天窗异响反复维修未解决                     H89,J298,  2021-02-08   信息审核  \n",
      "2      众泰大迈X7永久免费保养承诺未兑现                         M279,  2021-02-08   信息审核  \n",
      "3      奇瑞瑞虎8出现水泵漏水存在质量问题  A24,A191,A221,B33,J298,N317,  2021-02-08   信息审核  \n",
      "4    一汽大众奥迪A3变速箱机电控制单元故障                     B96,B115,  2021-02-08   信息审核  \n",
      "..                   ...                           ...         ...    ...  \n",
      "25  东风本田INSPIRE发动机气门室盖漏油                          A12,  2021-02-03   处理反馈  \n",
      "26   吉利远景X6手机远程启动功能与宣传不符                         M279,  2021-02-03   处理反馈  \n",
      "27  华晨宝马3系新车被4S店工作人员剐蹭受损                         J299,  2021-02-03   信息审核  \n",
      "28     东风日产轩逸发动机和变速箱异响严重                       A9,B33,  2021-02-03   处理反馈  \n",
      "29   长安福特蒙迪欧节气门进机油希望厂家处理                          A12,  2021-02-03   处理反馈  \n",
      "\n",
      "[600 rows x 8 columns]\n"
     ]
    }
   ],
   "source": [
    "#获取前page_num页数据\n",
    "page_num=20\n",
    "base_url = 'http://www.12365auto.com/zlts/0-0-0-0-0-0_0-0-0-0-0-0-0-'\n",
    "result = pd.DataFrame(columns = ['id', 'brand', 'car_model', 'type', 'desc', 'problem', 'datetime', 'status'])\n",
    "for i in range(page_num):\n",
    "    #自动生成网址\n",
    "    url=base_url+str(i+1)+'.shtml'\n",
    "    soup=get_page_content(url)\n",
    "    df=get_data(soup)\n",
    "    result=result.append(df)\n",
    "    #等待\n",
    "    time.sleep(5)\n",
    "print(result)\n",
    "result.to_csv('car_complain.csv',index=False)\n",
    "result.to_excel('car_complain.xlsx',index=False)"
   ]
  }
 ],
 "metadata": {
  "kernelspec": {
   "display_name": "Python 3",
   "language": "python",
   "name": "python3"
  },
  "language_info": {
   "codemirror_mode": {
    "name": "ipython",
    "version": 3
   },
   "file_extension": ".py",
   "mimetype": "text/x-python",
   "name": "python",
   "nbconvert_exporter": "python",
   "pygments_lexer": "ipython3",
   "version": "3.7.6"
  }
 },
 "nbformat": 4,
 "nbformat_minor": 2
}
